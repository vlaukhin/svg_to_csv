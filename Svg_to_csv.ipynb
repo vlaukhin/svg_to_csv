{
 "cells": [
  {
   "cell_type": "code",
   "execution_count": null,
   "metadata": {},
   "outputs": [],
   "source": [
    "# converts a list of path elements of a SVG file to simple line drawing commands\n",
    "from svg.path import parse_path\n",
    "from xml.dom import minidom\n",
    "import pandas as pd\n",
    "svg_file = path_to_svg\n",
    "def convert_svg_pandas(svg_file):\n",
    "# read the SVG file\n",
    "    doc = minidom.parse(svg_file)\n",
    "    path_strings = [path.getAttribute('d') for path\n",
    "                    in doc.getElementsByTagName('path')]\n",
    "    doc.unlink()\n",
    "    df = pd.DataFrame()\n",
    "    # print the line draw commands\n",
    "    x = []\n",
    "    y = []\n",
    "    for path_string in path_strings:\n",
    "        path = parse_path(path_string)\n",
    "        for e in path:\n",
    "            if type(e).__name__ == 'Line':\n",
    "                x0 = e.start.real\n",
    "                y0 = e.start.imag\n",
    "                x1 = e.end.real\n",
    "                y1 = e.end.imag\n",
    "                x.append(x0)\n",
    "                y.append(y0)\n",
    "    \n",
    "    df[\"x\"]=x\n",
    "    df[\"y\"]=y\n",
    "    return df"
   ]
  }
 ],
 "metadata": {
  "kernelspec": {
   "display_name": "Python 3",
   "language": "python",
   "name": "python3"
  },
  "language_info": {
   "codemirror_mode": {
    "name": "ipython",
    "version": 3
   },
   "file_extension": ".py",
   "mimetype": "text/x-python",
   "name": "python",
   "nbconvert_exporter": "python",
   "pygments_lexer": "ipython3",
   "version": "3.7.3"
  }
 },
 "nbformat": 4,
 "nbformat_minor": 2
}
